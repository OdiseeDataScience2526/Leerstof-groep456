{
 "cells": [
  {
   "cell_type": "markdown",
   "metadata": {},
   "source": [
    "# Data mining\n",
    "\n",
    "De notebook hieronder geeft een voorbeeld van twee technieken om data te downloaden van het internet. De eerste techniek is om met behulp van de opendatasets package een dataset te downloaden van kaggle.\n",
    "Bij de tweede techniek wordt er een excel-dataset gedownload van de statbel-site van de belgische overheid.\n",
    "\n",
    "## Dataset van Kaggle\n",
    "\n",
    "Een handige manier om data te downloaden van kaggle is door gebruik te maken van de kagglehub package. Deze is reeds geinstalleerd maar verwacht wel een api-key om automatisch datasets te downloaden. Hiervoor moet je onderstaande stappen volgen:"
   ]
  },
  {
   "cell_type": "markdown",
   "metadata": {},
   "source": [
    "Om toegang te krijgen tot de dataset heb je echter een kaggle-username en api-key nodig. Om dit te verkijgen moet je de volgende stappen uitvoeren:\n",
    "* Ga naar https://www.kaggle.com/settings en login\n",
    "* Scroll naar beneden tot de sectie API\n",
    "* Klik op create new token\n",
    "* Dan krijg je een json met je username en api-key in\n",
    "* Deze json plaats je in de directory van je notebook(s). Dan worden je credentials automatisch gebruikt."
   ]
  },
  {
   "cell_type": "code",
   "execution_count": null,
   "metadata": {},
   "outputs": [],
   "source": []
  },
  {
   "cell_type": "markdown",
   "metadata": {},
   "source": [
    "## Data van de Belgische overheid\n",
    "\n",
    "Een tweede techniek die we gaan toelichten is om data te downloaden van andere bronnen, bijvoorbeeld van de Belgische overheid. Dit houdt in dat we eerst gaan zoeken naar een goede dataset via de statbel-site die je [hier](https://statbel.fgov.be/en) kan vinden. Als test gaan we een [dataset](https://statbel.fgov.be/en/open-data/fiscal-statistics-income) gebruiken over de inkomsten van personen. \n",
    "\n",
    "**Let op:** om te werken met excel files heb je de openpyxl package nodig maar deze is reeds geinstalleerd in deze docker container."
   ]
  },
  {
   "cell_type": "code",
   "execution_count": null,
   "metadata": {},
   "outputs": [],
   "source": []
  }
 ],
 "metadata": {
  "kernelspec": {
   "display_name": "Python 3 (ipykernel)",
   "language": "python",
   "name": "python3"
  },
  "language_info": {
   "codemirror_mode": {
    "name": "ipython",
    "version": 3
   },
   "file_extension": ".py",
   "mimetype": "text/x-python",
   "name": "python",
   "nbconvert_exporter": "python",
   "pygments_lexer": "ipython3",
   "version": "3.13.7"
  }
 },
 "nbformat": 4,
 "nbformat_minor": 4
}
