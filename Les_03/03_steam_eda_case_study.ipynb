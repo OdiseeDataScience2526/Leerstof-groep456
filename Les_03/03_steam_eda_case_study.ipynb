{
 "cells": [
  {
   "cell_type": "markdown",
   "id": "54ce5205",
   "metadata": {},
   "source": [
    "# 🎮 Case Study: EDA & Datacleaning op de *Steam Video Games* dataset\n",
    "\n",
    "Deze notebook doorloopt een **end-to-end verkenning (EDA)** en **datacleaning** van een gaming dataset (Steam).\n",
    "\n",
    "## Probleemstelling\n",
    "We willen een goed beeld krijgen van het aanbod op Steam: welke genres en categorieën zijn populair, hoe evolueert het aanbod in de tijd, en hoe verhouden prijs en (een maat voor) populariteit zich tot elkaar? Daarnaast willen we datakwaliteit verbeteren door missende waarden, ongeldige waarden en onjuiste datatypes aan te pakken.\n",
    "\n",
    "Concreet beantwoorden we o.a. de volgende vragen:\n",
    "\n",
    "1. **Datakwaliteit & structuur**\n",
    "   - Welke kolommen zijn aanwezig? Welke datatypes horen daarbij?\n",
    "   - Hoeveel missende waarden zijn er en waar?\n",
    "   - Zijn er dubbele rijen of inconsistenties (bv. datums, prijzen)?\n",
    "\n",
    "2. **Samenstelling van het aanbod**\n",
    "   - Hoe is de verdeling over **genres** en **categories**?\n",
    "   - Welke **developers** en **publishers** brengen het meeste uit?\n",
    "   - Hoe evolueert het aantal releases **per jaar**?\n",
    "\n",
    "3. **Prijs en populariteit**\n",
    "   - Wat is de verdeling van **prijzen**?\n",
    "   - Bestaat er een relatie tussen **prijs** en een maat voor **populariteit** (bv. *owners*, *recommendations*, *playtime*, afhankelijk van wat beschikbaar is)?\n",
    "\n",
    "4. **Regio’s / leeftijd / tags** (optioneel, afhankelijk van dataset)\n",
    "   - Hoe verhouden **leeftijdsvereisten** (required_age) of tags zich tot populariteit/prijs?\n",
    "\n",
    "Tot slot genereren we een **automatisch EDA-rapport** met *Sweetviz* als aanvulling op onze handmatige verkenning.\n"
   ]
  },
  {
   "cell_type": "markdown",
   "id": "6238c31d",
   "metadata": {},
   "source": [
    "## 🔧 Setup\n",
    "\n",
    "**Benodigdheden**:\n",
    "- `pandas`, `numpy`, `matplotlib`, `seaborn`\n",
    "- *Voor automatische download*: `kagglehub`\n",
    "- *EDA-rapport*: `sweetviz`\n",
    "\n",
    "⚠️ **Sweetviz & NumPy**: sommige Sweetviz-versies zijn (nog) niet volledig compatibel met `numpy>=2`. Als je een fout krijgt over `VisibleDeprecationWarning`, patch het tijdelijk (zie verder)."
   ]
  },
  {
   "cell_type": "code",
   "execution_count": null,
   "id": "0c06133f",
   "metadata": {},
   "outputs": [],
   "source": [
    "import pandas as pd\n",
    "import numpy as np\n",
    "import matplotlib.pyplot as plt\n",
    "import seaborn as sns\n",
    "import kagglehub"
   ]
  },
  {
   "cell_type": "markdown",
   "id": "6e57b472",
   "metadata": {},
   "source": [
    "## 📥 Data inladen\n",
    "We gaan eerst de dataset via **KaggleHub** op te halen: `nikdavis/steam-store-games`.\n",
    "Enkel de csv met naam steam.csv moet ingeladen worden."
   ]
  },
  {
   "cell_type": "code",
   "execution_count": null,
   "id": "d0e38d72",
   "metadata": {},
   "outputs": [],
   "source": [
    "DATASET = \"nikdavis/steam-store-games\"  # Kaggle dataset slug"
   ]
  },
  {
   "cell_type": "markdown",
   "id": "701abe63",
   "metadata": {},
   "source": [
    "## 🧹 Eerste cleaning & verkenning\n",
    "We bekijken rijen/kolommen, datatypes, missende waarden en dubbels."
   ]
  },
  {
   "cell_type": "code",
   "execution_count": null,
   "id": "987b83db",
   "metadata": {},
   "outputs": [],
   "source": []
  },
  {
   "cell_type": "markdown",
   "id": "126cc1ad",
   "metadata": {},
   "source": [
    "### Datatype fixes (afhankelijk van beschikbare kolommen)\n",
    "We proberen enkele veelvoorkomende kolommen te normaliseren: \n",
    "\n",
    "* `release_date` → Zet het om naar een datetime. Voeg ook een kolom release_year toe dat enkel het jaar bevat\n",
    "* `price` →  Hou enkel cijfers (en '.' als decimaal teken) over en verwijder komma's en speciale symbolen. Rond af op twee cijfers na de komma\n",
    "* `owners` → Is momenteel tekst in de vorm van \"min-max\", pas het aan naar een numerieke waarde midden van het bereik\n",
    "* `genres/categories` → momenteel tekst met genres/categorieen gesplitst door ';'. Pas het aan naar python-lijsten"
   ]
  },
  {
   "cell_type": "code",
   "execution_count": null,
   "id": "71ffc671",
   "metadata": {},
   "outputs": [],
   "source": []
  },
  {
   "cell_type": "markdown",
   "id": "1f7a3553",
   "metadata": {},
   "source": [
    "## ❓ Vragen & analyses\n",
    "### V1. Hoe ziet de verdeling van genres eruit?\n",
    "We tellen frequenties van genres (als de kolom aanwezig is)."
   ]
  },
  {
   "cell_type": "code",
   "execution_count": null,
   "id": "8df1c40b",
   "metadata": {},
   "outputs": [],
   "source": []
  },
  {
   "cell_type": "code",
   "execution_count": null,
   "id": "5ec30fef",
   "metadata": {},
   "outputs": [],
   "source": []
  },
  {
   "cell_type": "markdown",
   "id": "edee9489",
   "metadata": {},
   "source": [
    "### V2. Hoe evolueert het aantal releases per jaar?"
   ]
  },
  {
   "cell_type": "code",
   "execution_count": null,
   "id": "2ffdb1a9",
   "metadata": {},
   "outputs": [],
   "source": []
  },
  {
   "cell_type": "code",
   "execution_count": null,
   "id": "463a5334",
   "metadata": {},
   "outputs": [],
   "source": []
  },
  {
   "cell_type": "markdown",
   "id": "e0658c1b",
   "metadata": {},
   "source": [
    "### V3. Wat is de verdeling van prijzen? (indien beschikbaar)"
   ]
  },
  {
   "cell_type": "code",
   "execution_count": null,
   "id": "3da4ecb6",
   "metadata": {},
   "outputs": [],
   "source": []
  },
  {
   "cell_type": "code",
   "execution_count": null,
   "id": "6a136726",
   "metadata": {},
   "outputs": [],
   "source": []
  },
  {
   "cell_type": "markdown",
   "id": "db50e978",
   "metadata": {},
   "source": [
    "### V4. Relatie tussen prijs en populariteit\n",
    "We proberen een scatterplot *prijs vs populariteit* te maken. Populariteit meten we met wat beschikbaar is: `owners` (midpoint), `recommendations`, `positive_ratings`, `average_playtime`, ..."
   ]
  },
  {
   "cell_type": "code",
   "execution_count": null,
   "id": "9d690333",
   "metadata": {},
   "outputs": [],
   "source": []
  },
  {
   "cell_type": "markdown",
   "id": "3e9cdb6a",
   "metadata": {},
   "source": [
    "### V5. Top developers/publishers (aantal titels en (optioneel) gemiddelde populariteit)"
   ]
  },
  {
   "cell_type": "code",
   "execution_count": null,
   "id": "9a9e8f17",
   "metadata": {},
   "outputs": [],
   "source": []
  },
  {
   "cell_type": "markdown",
   "id": "2c4e654b",
   "metadata": {},
   "source": [
    "## 🧪 Train/Test splits voor vergelijkende EDA (optioneel)"
   ]
  },
  {
   "cell_type": "code",
   "execution_count": null,
   "id": "9884117e",
   "metadata": {},
   "outputs": [],
   "source": []
  },
  {
   "cell_type": "markdown",
   "id": "0af80416",
   "metadata": {},
   "source": [
    "## 📗 Sweetviz-rapport genereren\n",
    "Als je een fout krijgt over `numpy.VisibleDeprecationWarning`, gebruik tijdelijk `numpy<2.0` **of** de *monkey patch* hieronder."
   ]
  },
  {
   "cell_type": "code",
   "execution_count": null,
   "id": "919acd8b",
   "metadata": {},
   "outputs": [],
   "source": []
  },
  {
   "cell_type": "markdown",
   "id": "46ea6f4d",
   "metadata": {},
   "source": [
    "## 📌 Samenvatting & vervolgstappen\n",
    "- We hebben de dataset opgeschoond (datatypes, missende waarden, eenvoudige parsers) en eerste inzichten verkregen in **genres**, **tijdsevolutie**, **prijzen** en **populariteit**.\n",
    "- Voor verdere analyse kun je:\n",
    "  - Geavanceerdere feature-engineering doen (bijv. *tags* one-hot encoden, *owners* log-transformeren).\n",
    "  - Meer robuuste outlier-detectie (IQR/mad) toepassen op prijs en speeltijd.\n",
    "  - Een eenvoudig model bouwen om populariteit te voorspellen op basis van metadata (genre, developer, release_year, prijs).\n"
   ]
  }
 ],
 "metadata": {
  "created": "2025-08-22T09:13:26.874593Z",
  "kernelspec": {
   "display_name": "Python 3 (ipykernel)",
   "language": "python",
   "name": "python3"
  },
  "language_info": {
   "codemirror_mode": {
    "name": "ipython",
    "version": 3
   },
   "file_extension": ".py",
   "mimetype": "text/x-python",
   "name": "python",
   "nbconvert_exporter": "python",
   "pygments_lexer": "ipython3",
   "version": "3.13.7"
  }
 },
 "nbformat": 4,
 "nbformat_minor": 5
}
