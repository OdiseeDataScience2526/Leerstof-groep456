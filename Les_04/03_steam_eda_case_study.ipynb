{
 "cells": [
  {
   "cell_type": "markdown",
   "id": "54ce5205",
   "metadata": {},
   "source": [
    "# 🎮 Case Study: EDA & Datacleaning op de *Steam Video Games* dataset\n",
    "\n",
    "Deze notebook doorloopt een **end-to-end verkenning (EDA)** en **datacleaning** van een gaming dataset (Steam).\n",
    "\n",
    "## Probleemstelling\n",
    "We willen een goed beeld krijgen van het aanbod op Steam: welke genres en categorieën zijn populair, hoe evolueert het aanbod in de tijd, en hoe verhouden prijs en (een maat voor) populariteit zich tot elkaar? Daarnaast willen we datakwaliteit verbeteren door missende waarden, ongeldige waarden en onjuiste datatypes aan te pakken.\n",
    "\n",
    "Concreet beantwoorden we o.a. de volgende vragen:\n",
    "\n",
    "1. **Datakwaliteit & structuur**\n",
    "   - Welke kolommen zijn aanwezig? Welke datatypes horen daarbij?\n",
    "   - Hoeveel missende waarden zijn er en waar?\n",
    "   - Zijn er dubbele rijen of inconsistenties (bv. datums, prijzen)?\n",
    "\n",
    "2. **Samenstelling van het aanbod**\n",
    "   - Hoe is de verdeling over **genres** en **categories**?\n",
    "   - Welke **developers** en **publishers** brengen het meeste uit?\n",
    "   - Hoe evolueert het aantal releases **per jaar**?\n",
    "\n",
    "3. **Prijs en populariteit**\n",
    "   - Wat is de verdeling van **prijzen**?\n",
    "   - Bestaat er een relatie tussen **prijs** en een maat voor **populariteit** (bv. *owners*, *recommendations*, *playtime*, afhankelijk van wat beschikbaar is)?\n",
    "\n",
    "4. **Regio’s / leeftijd / tags** (optioneel, afhankelijk van dataset)\n",
    "   - Hoe verhouden **leeftijdsvereisten** (required_age) of tags zich tot populariteit/prijs?\n",
    "\n",
    "Tot slot genereren we een **automatisch EDA-rapport** met *Sweetviz* als aanvulling op onze handmatige verkenning.\n"
   ]
  },
  {
   "cell_type": "markdown",
   "id": "6238c31d",
   "metadata": {},
   "source": [
    "## 🔧 Setup\n",
    "\n",
    "**Benodigdheden**:\n",
    "- `pandas`, `numpy`, `matplotlib`, `seaborn`\n",
    "- *Voor automatische download*: `kagglehub`\n",
    "- *EDA-rapport*: `sweetviz`\n",
    "\n",
    "⚠️ **Sweetviz & NumPy**: sommige Sweetviz-versies zijn (nog) niet volledig compatibel met `numpy>=2`. Als je een fout krijgt over `VisibleDeprecationWarning`, patch het tijdelijk (zie verder)."
   ]
  },
  {
   "cell_type": "code",
   "execution_count": 2,
   "id": "0c06133f",
   "metadata": {},
   "outputs": [],
   "source": [
    "import pandas as pd\n",
    "import numpy as np\n",
    "import matplotlib.pyplot as plt\n",
    "import seaborn as sns\n",
    "import kagglehub\n",
    "\n",
    "import re"
   ]
  },
  {
   "cell_type": "markdown",
   "id": "6e57b472",
   "metadata": {},
   "source": [
    "## 📥 Data inladen\n",
    "We gaan eerst de dataset via **KaggleHub** op te halen: `nikdavis/steam-store-games`.\n",
    "Enkel de csv met naam steam.csv moet ingeladen worden."
   ]
  },
  {
   "cell_type": "code",
   "execution_count": 3,
   "id": "93087343-e1d0-473e-8b3f-0b2cc4808793",
   "metadata": {},
   "outputs": [
    {
     "name": "stdout",
     "output_type": "stream",
     "text": [
      "Warning: Looks like you're using an outdated `kagglehub` version (installed: 0.3.12), please consider upgrading to the latest version (0.3.13).\n",
      "Downloading from https://www.kaggle.com/api/v1/datasets/download/nikdavis/steam-store-games?dataset_version_number=3...\n"
     ]
    },
    {
     "name": "stderr",
     "output_type": "stream",
     "text": [
      "100%|██████████| 35.2M/35.2M [00:01<00:00, 26.2MB/s]\n"
     ]
    },
    {
     "name": "stdout",
     "output_type": "stream",
     "text": [
      "Extracting files...\n"
     ]
    }
   ],
   "source": [
    "DATASET = \"nikdavis/steam-store-games\"  # Kaggle dataset slug\n",
    "\n",
    "path = kagglehub.dataset_download(DATASET)\n",
    "df_raw = pd.read_csv(f\"{path}/steam.csv\")"
   ]
  },
  {
   "cell_type": "code",
   "execution_count": 5,
   "id": "d0e38d72",
   "metadata": {},
   "outputs": [
    {
     "data": {
      "text/html": [
       "<div>\n",
       "<style scoped>\n",
       "    .dataframe tbody tr th:only-of-type {\n",
       "        vertical-align: middle;\n",
       "    }\n",
       "\n",
       "    .dataframe tbody tr th {\n",
       "        vertical-align: top;\n",
       "    }\n",
       "\n",
       "    .dataframe thead th {\n",
       "        text-align: right;\n",
       "    }\n",
       "</style>\n",
       "<table border=\"1\" class=\"dataframe\">\n",
       "  <thead>\n",
       "    <tr style=\"text-align: right;\">\n",
       "      <th></th>\n",
       "      <th>appid</th>\n",
       "      <th>name</th>\n",
       "      <th>release_date</th>\n",
       "      <th>english</th>\n",
       "      <th>developer</th>\n",
       "      <th>publisher</th>\n",
       "      <th>platforms</th>\n",
       "      <th>required_age</th>\n",
       "      <th>categories</th>\n",
       "      <th>genres</th>\n",
       "      <th>steamspy_tags</th>\n",
       "      <th>achievements</th>\n",
       "      <th>positive_ratings</th>\n",
       "      <th>negative_ratings</th>\n",
       "      <th>average_playtime</th>\n",
       "      <th>median_playtime</th>\n",
       "      <th>owners</th>\n",
       "      <th>price</th>\n",
       "    </tr>\n",
       "  </thead>\n",
       "  <tbody>\n",
       "    <tr>\n",
       "      <th>27070</th>\n",
       "      <td>1065230</td>\n",
       "      <td>Room of Pandora</td>\n",
       "      <td>2019-04-24</td>\n",
       "      <td>1</td>\n",
       "      <td>SHEN JIAWEI</td>\n",
       "      <td>SHEN JIAWEI</td>\n",
       "      <td>windows</td>\n",
       "      <td>0</td>\n",
       "      <td>Single-player;Steam Achievements</td>\n",
       "      <td>Adventure;Casual;Indie</td>\n",
       "      <td>Adventure;Indie;Casual</td>\n",
       "      <td>7</td>\n",
       "      <td>3</td>\n",
       "      <td>0</td>\n",
       "      <td>0</td>\n",
       "      <td>0</td>\n",
       "      <td>0-20000</td>\n",
       "      <td>2.09</td>\n",
       "    </tr>\n",
       "    <tr>\n",
       "      <th>27071</th>\n",
       "      <td>1065570</td>\n",
       "      <td>Cyber Gun</td>\n",
       "      <td>2019-04-23</td>\n",
       "      <td>1</td>\n",
       "      <td>Semyon Maximov</td>\n",
       "      <td>BekkerDev Studio</td>\n",
       "      <td>windows</td>\n",
       "      <td>0</td>\n",
       "      <td>Single-player</td>\n",
       "      <td>Action;Adventure;Indie</td>\n",
       "      <td>Action;Indie;Adventure</td>\n",
       "      <td>0</td>\n",
       "      <td>8</td>\n",
       "      <td>1</td>\n",
       "      <td>0</td>\n",
       "      <td>0</td>\n",
       "      <td>0-20000</td>\n",
       "      <td>1.69</td>\n",
       "    </tr>\n",
       "    <tr>\n",
       "      <th>27072</th>\n",
       "      <td>1065650</td>\n",
       "      <td>Super Star Blast</td>\n",
       "      <td>2019-04-24</td>\n",
       "      <td>1</td>\n",
       "      <td>EntwicklerX</td>\n",
       "      <td>EntwicklerX</td>\n",
       "      <td>windows</td>\n",
       "      <td>0</td>\n",
       "      <td>Single-player;Multi-player;Co-op;Shared/Split ...</td>\n",
       "      <td>Action;Casual;Indie</td>\n",
       "      <td>Action;Indie;Casual</td>\n",
       "      <td>24</td>\n",
       "      <td>0</td>\n",
       "      <td>1</td>\n",
       "      <td>0</td>\n",
       "      <td>0</td>\n",
       "      <td>0-20000</td>\n",
       "      <td>3.99</td>\n",
       "    </tr>\n",
       "    <tr>\n",
       "      <th>27073</th>\n",
       "      <td>1066700</td>\n",
       "      <td>New Yankee 7: Deer Hunters</td>\n",
       "      <td>2019-04-17</td>\n",
       "      <td>1</td>\n",
       "      <td>Yustas Game Studio</td>\n",
       "      <td>Alawar Entertainment</td>\n",
       "      <td>windows;mac</td>\n",
       "      <td>0</td>\n",
       "      <td>Single-player;Steam Cloud</td>\n",
       "      <td>Adventure;Casual;Indie</td>\n",
       "      <td>Indie;Casual;Adventure</td>\n",
       "      <td>0</td>\n",
       "      <td>2</td>\n",
       "      <td>0</td>\n",
       "      <td>0</td>\n",
       "      <td>0</td>\n",
       "      <td>0-20000</td>\n",
       "      <td>5.19</td>\n",
       "    </tr>\n",
       "    <tr>\n",
       "      <th>27074</th>\n",
       "      <td>1069460</td>\n",
       "      <td>Rune Lord</td>\n",
       "      <td>2019-04-24</td>\n",
       "      <td>1</td>\n",
       "      <td>Adept Studios GD</td>\n",
       "      <td>Alawar Entertainment</td>\n",
       "      <td>windows;mac</td>\n",
       "      <td>0</td>\n",
       "      <td>Single-player;Steam Cloud</td>\n",
       "      <td>Adventure;Casual;Indie</td>\n",
       "      <td>Indie;Casual;Adventure</td>\n",
       "      <td>0</td>\n",
       "      <td>4</td>\n",
       "      <td>0</td>\n",
       "      <td>0</td>\n",
       "      <td>0</td>\n",
       "      <td>0-20000</td>\n",
       "      <td>5.19</td>\n",
       "    </tr>\n",
       "  </tbody>\n",
       "</table>\n",
       "</div>"
      ],
      "text/plain": [
       "         appid                        name release_date  english  \\\n",
       "27070  1065230             Room of Pandora   2019-04-24        1   \n",
       "27071  1065570                   Cyber Gun   2019-04-23        1   \n",
       "27072  1065650            Super Star Blast   2019-04-24        1   \n",
       "27073  1066700  New Yankee 7: Deer Hunters   2019-04-17        1   \n",
       "27074  1069460                   Rune Lord   2019-04-24        1   \n",
       "\n",
       "                developer             publisher    platforms  required_age  \\\n",
       "27070         SHEN JIAWEI           SHEN JIAWEI      windows             0   \n",
       "27071      Semyon Maximov      BekkerDev Studio      windows             0   \n",
       "27072         EntwicklerX           EntwicklerX      windows             0   \n",
       "27073  Yustas Game Studio  Alawar Entertainment  windows;mac             0   \n",
       "27074    Adept Studios GD  Alawar Entertainment  windows;mac             0   \n",
       "\n",
       "                                              categories  \\\n",
       "27070                   Single-player;Steam Achievements   \n",
       "27071                                      Single-player   \n",
       "27072  Single-player;Multi-player;Co-op;Shared/Split ...   \n",
       "27073                          Single-player;Steam Cloud   \n",
       "27074                          Single-player;Steam Cloud   \n",
       "\n",
       "                       genres           steamspy_tags  achievements  \\\n",
       "27070  Adventure;Casual;Indie  Adventure;Indie;Casual             7   \n",
       "27071  Action;Adventure;Indie  Action;Indie;Adventure             0   \n",
       "27072     Action;Casual;Indie     Action;Indie;Casual            24   \n",
       "27073  Adventure;Casual;Indie  Indie;Casual;Adventure             0   \n",
       "27074  Adventure;Casual;Indie  Indie;Casual;Adventure             0   \n",
       "\n",
       "       positive_ratings  negative_ratings  average_playtime  median_playtime  \\\n",
       "27070                 3                 0                 0                0   \n",
       "27071                 8                 1                 0                0   \n",
       "27072                 0                 1                 0                0   \n",
       "27073                 2                 0                 0                0   \n",
       "27074                 4                 0                 0                0   \n",
       "\n",
       "        owners  price  \n",
       "27070  0-20000   2.09  \n",
       "27071  0-20000   1.69  \n",
       "27072  0-20000   3.99  \n",
       "27073  0-20000   5.19  \n",
       "27074  0-20000   5.19  "
      ]
     },
     "execution_count": 5,
     "metadata": {},
     "output_type": "execute_result"
    }
   ],
   "source": [
    "df = df_raw.copy()\n",
    "df.tail()"
   ]
  },
  {
   "cell_type": "markdown",
   "id": "701abe63",
   "metadata": {},
   "source": [
    "## 🧹 Eerste cleaning & verkenning\n",
    "We bekijken rijen/kolommen, datatypes, missende waarden en dubbels."
   ]
  },
  {
   "cell_type": "code",
   "execution_count": 8,
   "id": "987b83db",
   "metadata": {},
   "outputs": [
    {
     "name": "stdout",
     "output_type": "stream",
     "text": [
      "<class 'pandas.core.frame.DataFrame'>\n",
      "RangeIndex: 27075 entries, 0 to 27074\n",
      "Data columns (total 18 columns):\n",
      " #   Column            Non-Null Count  Dtype  \n",
      "---  ------            --------------  -----  \n",
      " 0   appid             27075 non-null  int64  \n",
      " 1   name              27075 non-null  object \n",
      " 2   release_date      27075 non-null  object \n",
      " 3   english           27075 non-null  int64  \n",
      " 4   developer         27074 non-null  object \n",
      " 5   publisher         27061 non-null  object \n",
      " 6   platforms         27075 non-null  object \n",
      " 7   required_age      27075 non-null  int64  \n",
      " 8   categories        27075 non-null  object \n",
      " 9   genres            27075 non-null  object \n",
      " 10  steamspy_tags     27075 non-null  object \n",
      " 11  achievements      27075 non-null  int64  \n",
      " 12  positive_ratings  27075 non-null  int64  \n",
      " 13  negative_ratings  27075 non-null  int64  \n",
      " 14  average_playtime  27075 non-null  int64  \n",
      " 15  median_playtime   27075 non-null  int64  \n",
      " 16  owners            27075 non-null  object \n",
      " 17  price             27075 non-null  float64\n",
      "dtypes: float64(1), int64(8), object(9)\n",
      "memory usage: 3.7+ MB\n"
     ]
    }
   ],
   "source": [
    "df.shape\n",
    "df.columns\n",
    "df.info()"
   ]
  },
  {
   "cell_type": "code",
   "execution_count": 10,
   "id": "2ba45c9e-ff37-4930-a8ae-5528aa3b6a35",
   "metadata": {},
   "outputs": [
    {
     "data": {
      "text/plain": [
       "publisher           14\n",
       "developer            1\n",
       "name                 0\n",
       "appid                0\n",
       "english              0\n",
       "release_date         0\n",
       "platforms            0\n",
       "required_age         0\n",
       "categories           0\n",
       "genres               0\n",
       "steamspy_tags        0\n",
       "achievements         0\n",
       "positive_ratings     0\n",
       "negative_ratings     0\n",
       "average_playtime     0\n",
       "median_playtime      0\n",
       "owners               0\n",
       "price                0\n",
       "dtype: int64"
      ]
     },
     "execution_count": 10,
     "metadata": {},
     "output_type": "execute_result"
    }
   ],
   "source": [
    "df.isna().sum().sort_values(ascending=False)"
   ]
  },
  {
   "cell_type": "code",
   "execution_count": 13,
   "id": "2147d328-5135-45e5-b30d-ed7d041a168b",
   "metadata": {},
   "outputs": [],
   "source": [
    "df.duplicated().sum()\n",
    "# er zijn 0 duplicaten. als er toch zijn\n",
    "df = df.drop_duplicates()"
   ]
  },
  {
   "cell_type": "markdown",
   "id": "126cc1ad",
   "metadata": {},
   "source": [
    "### Datatype fixes (afhankelijk van beschikbare kolommen)\n",
    "We proberen enkele veelvoorkomende kolommen te normaliseren: \n",
    "\n",
    "* `release_date` → Zet het om naar een datetime. Voeg ook een kolom release_year toe dat enkel het jaar bevat\n",
    "* `price` →  Hou enkel cijfers (en '.' als decimaal teken) over en verwijder komma's en speciale symbolen. Rond af op twee cijfers na de komma\n",
    "* `owners` → Is momenteel tekst in de vorm van \"min-max\", pas het aan naar een numerieke waarde midden van het bereik\n",
    "* `genres/categories` → momenteel tekst met genres/categorieen gesplitst door ';'. Pas het aan naar python-lijsten"
   ]
  },
  {
   "cell_type": "code",
   "execution_count": 16,
   "id": "71ffc671",
   "metadata": {},
   "outputs": [
    {
     "data": {
      "text/html": [
       "<div>\n",
       "<style scoped>\n",
       "    .dataframe tbody tr th:only-of-type {\n",
       "        vertical-align: middle;\n",
       "    }\n",
       "\n",
       "    .dataframe tbody tr th {\n",
       "        vertical-align: top;\n",
       "    }\n",
       "\n",
       "    .dataframe thead th {\n",
       "        text-align: right;\n",
       "    }\n",
       "</style>\n",
       "<table border=\"1\" class=\"dataframe\">\n",
       "  <thead>\n",
       "    <tr style=\"text-align: right;\">\n",
       "      <th></th>\n",
       "      <th>appid</th>\n",
       "      <th>name</th>\n",
       "      <th>release_date</th>\n",
       "      <th>english</th>\n",
       "      <th>developer</th>\n",
       "      <th>publisher</th>\n",
       "      <th>platforms</th>\n",
       "      <th>required_age</th>\n",
       "      <th>categories</th>\n",
       "      <th>genres</th>\n",
       "      <th>steamspy_tags</th>\n",
       "      <th>achievements</th>\n",
       "      <th>positive_ratings</th>\n",
       "      <th>negative_ratings</th>\n",
       "      <th>average_playtime</th>\n",
       "      <th>median_playtime</th>\n",
       "      <th>owners</th>\n",
       "      <th>price</th>\n",
       "      <th>release_year</th>\n",
       "    </tr>\n",
       "  </thead>\n",
       "  <tbody>\n",
       "    <tr>\n",
       "      <th>0</th>\n",
       "      <td>10</td>\n",
       "      <td>Counter-Strike</td>\n",
       "      <td>2000-11-01</td>\n",
       "      <td>1</td>\n",
       "      <td>Valve</td>\n",
       "      <td>Valve</td>\n",
       "      <td>windows;mac;linux</td>\n",
       "      <td>0</td>\n",
       "      <td>Multi-player;Online Multi-Player;Local Multi-P...</td>\n",
       "      <td>Action</td>\n",
       "      <td>Action;FPS;Multiplayer</td>\n",
       "      <td>0</td>\n",
       "      <td>124534</td>\n",
       "      <td>3339</td>\n",
       "      <td>17612</td>\n",
       "      <td>317</td>\n",
       "      <td>10000000-20000000</td>\n",
       "      <td>7.19</td>\n",
       "      <td>2000</td>\n",
       "    </tr>\n",
       "    <tr>\n",
       "      <th>1</th>\n",
       "      <td>20</td>\n",
       "      <td>Team Fortress Classic</td>\n",
       "      <td>1999-04-01</td>\n",
       "      <td>1</td>\n",
       "      <td>Valve</td>\n",
       "      <td>Valve</td>\n",
       "      <td>windows;mac;linux</td>\n",
       "      <td>0</td>\n",
       "      <td>Multi-player;Online Multi-Player;Local Multi-P...</td>\n",
       "      <td>Action</td>\n",
       "      <td>Action;FPS;Multiplayer</td>\n",
       "      <td>0</td>\n",
       "      <td>3318</td>\n",
       "      <td>633</td>\n",
       "      <td>277</td>\n",
       "      <td>62</td>\n",
       "      <td>5000000-10000000</td>\n",
       "      <td>3.99</td>\n",
       "      <td>1999</td>\n",
       "    </tr>\n",
       "    <tr>\n",
       "      <th>2</th>\n",
       "      <td>30</td>\n",
       "      <td>Day of Defeat</td>\n",
       "      <td>2003-05-01</td>\n",
       "      <td>1</td>\n",
       "      <td>Valve</td>\n",
       "      <td>Valve</td>\n",
       "      <td>windows;mac;linux</td>\n",
       "      <td>0</td>\n",
       "      <td>Multi-player;Valve Anti-Cheat enabled</td>\n",
       "      <td>Action</td>\n",
       "      <td>FPS;World War II;Multiplayer</td>\n",
       "      <td>0</td>\n",
       "      <td>3416</td>\n",
       "      <td>398</td>\n",
       "      <td>187</td>\n",
       "      <td>34</td>\n",
       "      <td>5000000-10000000</td>\n",
       "      <td>3.99</td>\n",
       "      <td>2003</td>\n",
       "    </tr>\n",
       "    <tr>\n",
       "      <th>3</th>\n",
       "      <td>40</td>\n",
       "      <td>Deathmatch Classic</td>\n",
       "      <td>2001-06-01</td>\n",
       "      <td>1</td>\n",
       "      <td>Valve</td>\n",
       "      <td>Valve</td>\n",
       "      <td>windows;mac;linux</td>\n",
       "      <td>0</td>\n",
       "      <td>Multi-player;Online Multi-Player;Local Multi-P...</td>\n",
       "      <td>Action</td>\n",
       "      <td>Action;FPS;Multiplayer</td>\n",
       "      <td>0</td>\n",
       "      <td>1273</td>\n",
       "      <td>267</td>\n",
       "      <td>258</td>\n",
       "      <td>184</td>\n",
       "      <td>5000000-10000000</td>\n",
       "      <td>3.99</td>\n",
       "      <td>2001</td>\n",
       "    </tr>\n",
       "    <tr>\n",
       "      <th>4</th>\n",
       "      <td>50</td>\n",
       "      <td>Half-Life: Opposing Force</td>\n",
       "      <td>1999-11-01</td>\n",
       "      <td>1</td>\n",
       "      <td>Gearbox Software</td>\n",
       "      <td>Valve</td>\n",
       "      <td>windows;mac;linux</td>\n",
       "      <td>0</td>\n",
       "      <td>Single-player;Multi-player;Valve Anti-Cheat en...</td>\n",
       "      <td>Action</td>\n",
       "      <td>FPS;Action;Sci-fi</td>\n",
       "      <td>0</td>\n",
       "      <td>5250</td>\n",
       "      <td>288</td>\n",
       "      <td>624</td>\n",
       "      <td>415</td>\n",
       "      <td>5000000-10000000</td>\n",
       "      <td>3.99</td>\n",
       "      <td>1999</td>\n",
       "    </tr>\n",
       "  </tbody>\n",
       "</table>\n",
       "</div>"
      ],
      "text/plain": [
       "   appid                       name release_date  english         developer  \\\n",
       "0     10             Counter-Strike   2000-11-01        1             Valve   \n",
       "1     20      Team Fortress Classic   1999-04-01        1             Valve   \n",
       "2     30              Day of Defeat   2003-05-01        1             Valve   \n",
       "3     40         Deathmatch Classic   2001-06-01        1             Valve   \n",
       "4     50  Half-Life: Opposing Force   1999-11-01        1  Gearbox Software   \n",
       "\n",
       "  publisher          platforms  required_age  \\\n",
       "0     Valve  windows;mac;linux             0   \n",
       "1     Valve  windows;mac;linux             0   \n",
       "2     Valve  windows;mac;linux             0   \n",
       "3     Valve  windows;mac;linux             0   \n",
       "4     Valve  windows;mac;linux             0   \n",
       "\n",
       "                                          categories  genres  \\\n",
       "0  Multi-player;Online Multi-Player;Local Multi-P...  Action   \n",
       "1  Multi-player;Online Multi-Player;Local Multi-P...  Action   \n",
       "2              Multi-player;Valve Anti-Cheat enabled  Action   \n",
       "3  Multi-player;Online Multi-Player;Local Multi-P...  Action   \n",
       "4  Single-player;Multi-player;Valve Anti-Cheat en...  Action   \n",
       "\n",
       "                  steamspy_tags  achievements  positive_ratings  \\\n",
       "0        Action;FPS;Multiplayer             0            124534   \n",
       "1        Action;FPS;Multiplayer             0              3318   \n",
       "2  FPS;World War II;Multiplayer             0              3416   \n",
       "3        Action;FPS;Multiplayer             0              1273   \n",
       "4             FPS;Action;Sci-fi             0              5250   \n",
       "\n",
       "   negative_ratings  average_playtime  median_playtime             owners  \\\n",
       "0              3339             17612              317  10000000-20000000   \n",
       "1               633               277               62   5000000-10000000   \n",
       "2               398               187               34   5000000-10000000   \n",
       "3               267               258              184   5000000-10000000   \n",
       "4               288               624              415   5000000-10000000   \n",
       "\n",
       "   price  release_year  \n",
       "0   7.19          2000  \n",
       "1   3.99          1999  \n",
       "2   3.99          2003  \n",
       "3   3.99          2001  \n",
       "4   3.99          1999  "
      ]
     },
     "execution_count": 16,
     "metadata": {},
     "output_type": "execute_result"
    }
   ],
   "source": [
    "# release_date\n",
    "df.release_date = pd.to_datetime(df.release_date, errors='coerce')\n",
    "df['release_year'] = df.release_date.dt.year\n",
    "df.head()"
   ]
  },
  {
   "cell_type": "code",
   "execution_count": 19,
   "id": "f507e0db-4d82-425d-9e12-5e4614daa3a8",
   "metadata": {},
   "outputs": [
    {
     "data": {
      "text/plain": [
       "0    7.19\n",
       "1    3.99\n",
       "2    3.99\n",
       "3    3.99\n",
       "4    3.99\n",
       "Name: price, dtype: float64"
      ]
     },
     "execution_count": 19,
     "metadata": {},
     "output_type": "execute_result"
    }
   ],
   "source": [
    "def to_price(x):\n",
    "    x = str(x) # dit is een indicatie dat het eigenlijk overbodig is maar ik had het gevraagd als oefening\n",
    "    x = x.replace(',', '.')\n",
    "    x = re.sub(r\"[^0-9.]+\", \"\", x) # r\"\" is een reguliere expressie -> hou enkel over cijfers tussen 0 en 9 en . en er moet minstens 1 zijn\n",
    "    return float(x)\n",
    "\n",
    "df.price = df.price.apply(to_price)\n",
    "df.price.head()"
   ]
  },
  {
   "cell_type": "code",
   "execution_count": 21,
   "id": "ca50a8c5-f810-4bc7-bd64-d63c3f52d913",
   "metadata": {},
   "outputs": [
    {
     "data": {
      "text/plain": [
       "0    15000000.0\n",
       "1     7500000.0\n",
       "2     7500000.0\n",
       "3     7500000.0\n",
       "4     7500000.0\n",
       "Name: owners, dtype: float64"
      ]
     },
     "execution_count": 21,
     "metadata": {},
     "output_type": "execute_result"
    }
   ],
   "source": [
    "# owners naar het midden van de range\n",
    "def owners_midpoint(x):\n",
    "    values = x.split('-')\n",
    "    low = int(values[0])\n",
    "    high = int(values[1])\n",
    "    return (low+high)/2\n",
    "\n",
    "df.owners = df.owners.apply(owners_midpoint)\n",
    "df.owners.head()"
   ]
  },
  {
   "cell_type": "code",
   "execution_count": 25,
   "id": "e3df083e-19f9-4312-aecc-8ae30b3994e0",
   "metadata": {},
   "outputs": [],
   "source": [
    "df.genres = df.genres.str.split(';')\n",
    "df.categories = df.categories.str.split(';')"
   ]
  },
  {
   "cell_type": "markdown",
   "id": "1f7a3553",
   "metadata": {},
   "source": [
    "## ❓ Vragen & analyses\n",
    "### V1. Hoe ziet de verdeling van genres eruit?\n",
    "We tellen frequenties van genres (als de kolom aanwezig is)."
   ]
  },
  {
   "cell_type": "code",
   "execution_count": 30,
   "id": "8df1c40b",
   "metadata": {},
   "outputs": [
    {
     "data": {
      "text/plain": [
       "0                          [Action]\n",
       "1                          [Action]\n",
       "2                          [Action]\n",
       "3                          [Action]\n",
       "4                          [Action]\n",
       "                    ...            \n",
       "27070    [Adventure, Casual, Indie]\n",
       "27071    [Action, Adventure, Indie]\n",
       "27072       [Action, Casual, Indie]\n",
       "27073    [Adventure, Casual, Indie]\n",
       "27074    [Adventure, Casual, Indie]\n",
       "Name: genres, Length: 27075, dtype: object"
      ]
     },
     "metadata": {},
     "output_type": "display_data"
    },
    {
     "data": {
      "text/plain": [
       "0           Action\n",
       "1           Action\n",
       "2           Action\n",
       "3           Action\n",
       "4           Action\n",
       "           ...    \n",
       "27073       Casual\n",
       "27073        Indie\n",
       "27074    Adventure\n",
       "27074       Casual\n",
       "27074        Indie\n",
       "Name: genres, Length: 76462, dtype: object"
      ]
     },
     "metadata": {},
     "output_type": "display_data"
    },
    {
     "data": {
      "text/plain": [
       "genres\n",
       "Indie                    19421\n",
       "Action                   11903\n",
       "Casual                   10210\n",
       "Adventure                10032\n",
       "Strategy                  5247\n",
       "Simulation                5194\n",
       "RPG                       4311\n",
       "Early Access              2954\n",
       "Free to Play              1704\n",
       "Sports                    1322\n",
       "Racing                    1024\n",
       "Violent                    843\n",
       "Massively Multiplayer      723\n",
       "Gore                       537\n",
       "Nudity                     266\n",
       "Sexual Content             245\n",
       "Utilities                  146\n",
       "Design & Illustration       87\n",
       "Animation & Modeling        79\n",
       "Education                   51\n",
       "Video Production            38\n",
       "Software Training           31\n",
       "Audio Production            29\n",
       "Web Publishing              28\n",
       "Game Development            17\n",
       "Photo Editing               12\n",
       "Accounting                   6\n",
       "Documentary                  1\n",
       "Tutorial                     1\n",
       "Name: count, dtype: int64"
      ]
     },
     "execution_count": 30,
     "metadata": {},
     "output_type": "execute_result"
    }
   ],
   "source": [
    "display(df.genres) # kijk naar de laatste waarde (27074): er zijn drie genres. \n",
    "display(df.genres.explode()) # na de explode zijn er drie rijen\n",
    "df.genres.explode().value_counts()"
   ]
  },
  {
   "cell_type": "code",
   "execution_count": 31,
   "id": "5ec30fef",
   "metadata": {},
   "outputs": [
    {
     "data": {
      "image/png": "[encoded data removed]",
      "text/plain": [
       "<Figure size 1200x600 with 1 Axes>"
      ]
     },
     "metadata": {},
     "output_type": "display_data"
    }
   ],
   "source": [
    "plt.figure(figsize=(12,6))\n",
    "df.genres.explode().value_counts().plot.barh()\n",
    "plt.title(\"Top 15 genres\")\n",
    "plt.xlabel(\"Aantal games\")\n",
    "plt.tight_layout()\n",
    "plt.show()"
   ]
  },
  {
   "cell_type": "markdown",
   "id": "edee9489",
   "metadata": {},
   "source": [
    "### V2. Hoe evolueert het aantal releases per jaar?"
   ]
  },
  {
   "cell_type": "code",
   "execution_count": 32,
   "id": "2ffdb1a9",
   "metadata": {},
   "outputs": [
    {
     "data": {
      "text/plain": [
       "release_year\n",
       "1997       1\n",
       "1998       1\n",
       "1999       2\n",
       "2000       2\n",
       "2001       4\n",
       "2002       1\n",
       "2003       3\n",
       "2004       6\n",
       "2005       6\n",
       "2006      48\n",
       "2007      93\n",
       "2008     145\n",
       "2009     305\n",
       "2010     238\n",
       "2011     239\n",
       "2012     320\n",
       "2013     418\n",
       "2014    1555\n",
       "2015    2597\n",
       "2016    4361\n",
       "2017    6357\n",
       "2018    8160\n",
       "2019    2213\n",
       "dtype: int64"
      ]
     },
     "execution_count": 32,
     "metadata": {},
     "output_type": "execute_result"
    }
   ],
   "source": [
    "df.groupby('release_year').size()"
   ]
  },
  {
   "cell_type": "code",
   "execution_count": null,
   "id": "463a5334",
   "metadata": {},
   "outputs": [],
   "source": []
  },
  {
   "cell_type": "markdown",
   "id": "e0658c1b",
   "metadata": {},
   "source": [
    "### V3. Wat is de verdeling van prijzen? (indien beschikbaar)"
   ]
  },
  {
   "cell_type": "code",
   "execution_count": 34,
   "id": "3da4ecb6",
   "metadata": {},
   "outputs": [
    {
     "data": {
      "text/plain": [
       "<Axes: >"
      ]
     },
     "execution_count": 34,
     "metadata": {},
     "output_type": "execute_result"
    },
    {
     "data": {
      "image/png": "[encoded data removed]",
      "text/plain": [
       "<Figure size 640x480 with 1 Axes>"
      ]
     },
     "metadata": {},
     "output_type": "display_data"
    }
   ],
   "source": [
    "df.price.hist(bins=200)"
   ]
  },
  {
   "cell_type": "code",
   "execution_count": null,
   "id": "6a136726",
   "metadata": {},
   "outputs": [],
   "source": []
  },
  {
   "cell_type": "markdown",
   "id": "db50e978",
   "metadata": {},
   "source": [
    "### V4. Relatie tussen prijs en populariteit\n",
    "We proberen een scatterplot *prijs vs populariteit* te maken. Populariteit meten we met wat beschikbaar is: `owners` (midpoint), `recommendations`, `positive_ratings`, `average_playtime`, ..."
   ]
  },
  {
   "cell_type": "code",
   "execution_count": 36,
   "id": "9d690333",
   "metadata": {},
   "outputs": [
    {
     "data": {
      "text/plain": [
       "<matplotlib.collections.PathCollection at 0x775608684910>"
      ]
     },
     "execution_count": 36,
     "metadata": {},
     "output_type": "execute_result"
    },
    {
     "data": {
      "image/png": "[encoded data removed]",
      "text/plain": [
       "<Figure size 640x480 with 1 Axes>"
      ]
     },
     "metadata": {},
     "output_type": "display_data"
    }
   ],
   "source": [
    "plt.scatter(df.price, df.positive_ratings)"
   ]
  },
  {
   "cell_type": "markdown",
   "id": "3e9cdb6a",
   "metadata": {},
   "source": [
    "### V5. Top developers/publishers (aantal titels en (optioneel) gemiddelde populariteit)"
   ]
  },
  {
   "cell_type": "code",
   "execution_count": 39,
   "id": "9a9e8f17",
   "metadata": {},
   "outputs": [
    {
     "data": {
      "text/plain": [
       "developer\n",
       "Choice of Games               94\n",
       "KOEI TECMO GAMES CO., LTD.    72\n",
       "Ripknot Systems               62\n",
       "Laush Dmitriy Sergeevich      51\n",
       "Nikita \"Ghost_RUS\"            50\n",
       "Dexion Games                  45\n",
       "RewindApp                     43\n",
       "Hosted Games                  42\n",
       "Blender Games                 40\n",
       "For Kids                      36\n",
       "Humongous Entertainment       36\n",
       "EnsenaSoft                    35\n",
       "Nekyau Games                  32\n",
       "Eipix Entertainment           32\n",
       "Warfare Studios               31\n",
       "Name: count, dtype: int64"
      ]
     },
     "execution_count": 39,
     "metadata": {},
     "output_type": "execute_result"
    }
   ],
   "source": [
    "df.developer.value_counts().head(15)"
   ]
  },
  {
   "cell_type": "markdown",
   "id": "2c4e654b",
   "metadata": {},
   "source": [
    "## 🧪 Train/Test splits voor vergelijkende EDA (optioneel)"
   ]
  },
  {
   "cell_type": "code",
   "execution_count": null,
   "id": "9884117e",
   "metadata": {},
   "outputs": [],
   "source": []
  },
  {
   "cell_type": "markdown",
   "id": "0af80416",
   "metadata": {},
   "source": [
    "## 📗 Sweetviz-rapport genereren\n",
    "Als je een fout krijgt over `numpy.VisibleDeprecationWarning`, gebruik tijdelijk `numpy<2.0` **of** de *monkey patch* hieronder."
   ]
  },
  {
   "cell_type": "code",
   "execution_count": null,
   "id": "919acd8b",
   "metadata": {},
   "outputs": [],
   "source": []
  },
  {
   "cell_type": "markdown",
   "id": "46ea6f4d",
   "metadata": {},
   "source": [
    "## 📌 Samenvatting & vervolgstappen\n",
    "- We hebben de dataset opgeschoond (datatypes, missende waarden, eenvoudige parsers) en eerste inzichten verkregen in **genres**, **tijdsevolutie**, **prijzen** en **populariteit**.\n",
    "- Voor verdere analyse kun je:\n",
    "  - Geavanceerdere feature-engineering doen (bijv. *tags* one-hot encoden, *owners* log-transformeren).\n",
    "  - Meer robuuste outlier-detectie (IQR/mad) toepassen op prijs en speeltijd.\n",
    "  - Een eenvoudig model bouwen om populariteit te voorspellen op basis van metadata (genre, developer, release_year, prijs).\n"
   ]
  }
 ],
 "metadata": {
  "created": "2025-08-22T09:13:26.874593Z",
  "kernelspec": {
   "display_name": "Python 3 (ipykernel)",
   "language": "python",
   "name": "python3"
  },
  "language_info": {
   "codemirror_mode": {
    "name": "ipython",
    "version": 3
   },
   "file_extension": ".py",
   "mimetype": "text/x-python",
   "name": "python",
   "nbconvert_exporter": "python",
   "pygments_lexer": "ipython3",
   "version": "3.13.7"
  }
 },
 "nbformat": 4,
 "nbformat_minor": 5
}
